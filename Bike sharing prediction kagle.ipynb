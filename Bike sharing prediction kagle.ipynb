{
 "cells": [
  {
   "cell_type": "markdown",
   "id": "5a59cbb1",
   "metadata": {},
   "source": [
    "# Bike sharing prediction"
   ]
  },
  {
   "cell_type": "code",
   "execution_count": 117,
   "id": "a05de1a4",
   "metadata": {},
   "outputs": [],
   "source": [
    "import pandas as pd\n",
    "import math\n",
    "import matplotlib.pyplot as plt\n",
    "import numpy as np\n",
    "from sklearn.model_selection import train_test_split\n",
    "from sklearn.linear_model import LinearRegression\n",
    "from sklearn.metrics import mean_squared_error"
   ]
  },
  {
   "cell_type": "code",
   "execution_count": 3,
   "id": "893d8a33",
   "metadata": {},
   "outputs": [],
   "source": [
    "orgData=pd.read_csv(\"hour.csv\")"
   ]
  },
  {
   "cell_type": "code",
   "execution_count": 4,
   "id": "35986d05",
   "metadata": {},
   "outputs": [],
   "source": [
    "bike=orgData.copy()"
   ]
  },
  {
   "cell_type": "markdown",
   "id": "cb7e3d03",
   "metadata": {},
   "source": [
    "# Data preliminary analysis"
   ]
  },
  {
   "cell_type": "code",
   "execution_count": 6,
   "id": "b68ff84d",
   "metadata": {},
   "outputs": [
    {
     "data": {
      "text/html": [
       "<div>\n",
       "<style scoped>\n",
       "    .dataframe tbody tr th:only-of-type {\n",
       "        vertical-align: middle;\n",
       "    }\n",
       "\n",
       "    .dataframe tbody tr th {\n",
       "        vertical-align: top;\n",
       "    }\n",
       "\n",
       "    .dataframe thead th {\n",
       "        text-align: right;\n",
       "    }\n",
       "</style>\n",
       "<table border=\"1\" class=\"dataframe\">\n",
       "  <thead>\n",
       "    <tr style=\"text-align: right;\">\n",
       "      <th></th>\n",
       "      <th>index</th>\n",
       "      <th>date</th>\n",
       "      <th>season</th>\n",
       "      <th>year</th>\n",
       "      <th>month</th>\n",
       "      <th>hour</th>\n",
       "      <th>holiday</th>\n",
       "      <th>weekday</th>\n",
       "      <th>workingday</th>\n",
       "      <th>weather</th>\n",
       "      <th>temp</th>\n",
       "      <th>atemp</th>\n",
       "      <th>humidity</th>\n",
       "      <th>windspeed</th>\n",
       "      <th>casual</th>\n",
       "      <th>registered</th>\n",
       "      <th>demand</th>\n",
       "    </tr>\n",
       "  </thead>\n",
       "  <tbody>\n",
       "    <tr>\n",
       "      <th>0</th>\n",
       "      <td>1</td>\n",
       "      <td>01-01-2011</td>\n",
       "      <td>1</td>\n",
       "      <td>0</td>\n",
       "      <td>1</td>\n",
       "      <td>0</td>\n",
       "      <td>0</td>\n",
       "      <td>6</td>\n",
       "      <td>0</td>\n",
       "      <td>1</td>\n",
       "      <td>0.24</td>\n",
       "      <td>0.2879</td>\n",
       "      <td>0.81</td>\n",
       "      <td>0.0</td>\n",
       "      <td>3</td>\n",
       "      <td>13</td>\n",
       "      <td>16</td>\n",
       "    </tr>\n",
       "    <tr>\n",
       "      <th>1</th>\n",
       "      <td>2</td>\n",
       "      <td>01-01-2011</td>\n",
       "      <td>1</td>\n",
       "      <td>0</td>\n",
       "      <td>1</td>\n",
       "      <td>1</td>\n",
       "      <td>0</td>\n",
       "      <td>6</td>\n",
       "      <td>0</td>\n",
       "      <td>1</td>\n",
       "      <td>0.22</td>\n",
       "      <td>0.2727</td>\n",
       "      <td>0.80</td>\n",
       "      <td>0.0</td>\n",
       "      <td>8</td>\n",
       "      <td>32</td>\n",
       "      <td>40</td>\n",
       "    </tr>\n",
       "    <tr>\n",
       "      <th>2</th>\n",
       "      <td>3</td>\n",
       "      <td>01-01-2011</td>\n",
       "      <td>1</td>\n",
       "      <td>0</td>\n",
       "      <td>1</td>\n",
       "      <td>2</td>\n",
       "      <td>0</td>\n",
       "      <td>6</td>\n",
       "      <td>0</td>\n",
       "      <td>1</td>\n",
       "      <td>0.22</td>\n",
       "      <td>0.2727</td>\n",
       "      <td>0.80</td>\n",
       "      <td>0.0</td>\n",
       "      <td>5</td>\n",
       "      <td>27</td>\n",
       "      <td>32</td>\n",
       "    </tr>\n",
       "    <tr>\n",
       "      <th>3</th>\n",
       "      <td>4</td>\n",
       "      <td>01-01-2011</td>\n",
       "      <td>1</td>\n",
       "      <td>0</td>\n",
       "      <td>1</td>\n",
       "      <td>3</td>\n",
       "      <td>0</td>\n",
       "      <td>6</td>\n",
       "      <td>0</td>\n",
       "      <td>1</td>\n",
       "      <td>0.24</td>\n",
       "      <td>0.2879</td>\n",
       "      <td>0.75</td>\n",
       "      <td>0.0</td>\n",
       "      <td>3</td>\n",
       "      <td>10</td>\n",
       "      <td>13</td>\n",
       "    </tr>\n",
       "    <tr>\n",
       "      <th>4</th>\n",
       "      <td>5</td>\n",
       "      <td>01-01-2011</td>\n",
       "      <td>1</td>\n",
       "      <td>0</td>\n",
       "      <td>1</td>\n",
       "      <td>4</td>\n",
       "      <td>0</td>\n",
       "      <td>6</td>\n",
       "      <td>0</td>\n",
       "      <td>1</td>\n",
       "      <td>0.24</td>\n",
       "      <td>0.2879</td>\n",
       "      <td>0.75</td>\n",
       "      <td>0.0</td>\n",
       "      <td>0</td>\n",
       "      <td>1</td>\n",
       "      <td>1</td>\n",
       "    </tr>\n",
       "  </tbody>\n",
       "</table>\n",
       "</div>"
      ],
      "text/plain": [
       "   index        date  season  year  month  hour  holiday  weekday  workingday  \\\n",
       "0      1  01-01-2011       1     0      1     0        0        6           0   \n",
       "1      2  01-01-2011       1     0      1     1        0        6           0   \n",
       "2      3  01-01-2011       1     0      1     2        0        6           0   \n",
       "3      4  01-01-2011       1     0      1     3        0        6           0   \n",
       "4      5  01-01-2011       1     0      1     4        0        6           0   \n",
       "\n",
       "   weather  temp   atemp  humidity  windspeed  casual  registered  demand  \n",
       "0        1  0.24  0.2879      0.81        0.0       3          13      16  \n",
       "1        1  0.22  0.2727      0.80        0.0       8          32      40  \n",
       "2        1  0.22  0.2727      0.80        0.0       5          27      32  \n",
       "3        1  0.24  0.2879      0.75        0.0       3          10      13  \n",
       "4        1  0.24  0.2879      0.75        0.0       0           1       1  "
      ]
     },
     "execution_count": 6,
     "metadata": {},
     "output_type": "execute_result"
    }
   ],
   "source": [
    "bike.head()"
   ]
  },
  {
   "cell_type": "code",
   "execution_count": 11,
   "id": "b02f83b1",
   "metadata": {},
   "outputs": [],
   "source": [
    "bike=bike.drop(['index','date','registered'],axis=1) #droped not required column"
   ]
  },
  {
   "cell_type": "code",
   "execution_count": 13,
   "id": "a45a3dfd",
   "metadata": {},
   "outputs": [
    {
     "data": {
      "text/plain": [
       "Index(['season', 'year', 'month', 'hour', 'holiday', 'weekday', 'workingday',\n",
       "       'weather', 'temp', 'atemp', 'humidity', 'windspeed', 'casual',\n",
       "       'demand'],\n",
       "      dtype='object')"
      ]
     },
     "execution_count": 13,
     "metadata": {},
     "output_type": "execute_result"
    }
   ],
   "source": [
    "bike.columns"
   ]
  },
  {
   "cell_type": "code",
   "execution_count": 18,
   "id": "0b49498c",
   "metadata": {},
   "outputs": [
    {
     "data": {
      "text/plain": [
       "season        0\n",
       "year          0\n",
       "month         0\n",
       "hour          0\n",
       "holiday       0\n",
       "weekday       0\n",
       "workingday    0\n",
       "weather       0\n",
       "temp          0\n",
       "atemp         0\n",
       "humidity      0\n",
       "windspeed     0\n",
       "casual        0\n",
       "demand        0\n",
       "dtype: int64"
      ]
     },
     "execution_count": 18,
     "metadata": {},
     "output_type": "execute_result"
    }
   ],
   "source": [
    "bike.isnull().sum()"
   ]
  },
  {
   "cell_type": "code",
   "execution_count": 23,
   "id": "ec4e87ea",
   "metadata": {},
   "outputs": [
    {
     "data": {
      "image/png": "[encoded data removed]",
      "text/plain": [
       "<Figure size 432x288 with 16 Axes>"
      ]
     },
     "metadata": {
      "needs_background": "light"
     },
     "output_type": "display_data"
    }
   ],
   "source": [
    "bike.hist(rwidth=0.9)\n",
    "plt.tight_layout()"
   ]
  },
  {
   "cell_type": "markdown",
   "id": "4233b93b",
   "metadata": {},
   "source": [
    "# data visualization of continuous variable with demand"
   ]
  },
  {
   "cell_type": "code",
   "execution_count": 37,
   "id": "382a7390",
   "metadata": {},
   "outputs": [
    {
     "data": {
      "image/png": "[encoded data removed]",
      "text/plain": [
       "<Figure size 432x288 with 4 Axes>"
      ]
     },
     "metadata": {
      "needs_background": "light"
     },
     "output_type": "display_data"
    }
   ],
   "source": [
    "plt.subplot(2,2,1)\n",
    "plt.title(\"Temprature vs demand \")\n",
    "plt.scatter(bike['temp'],bike['demand'],s=2,c='b')\n",
    "\n",
    "plt.subplot(2,2,2)\n",
    "plt.title(\"aTemp vs demand \")\n",
    "plt.scatter(bike['atemp'],bike['demand'],s=2,c='g')\n",
    "\n",
    "plt.subplot(2,2,3)\n",
    "plt.title(\"humidity vs demand \")\n",
    "plt.scatter(bike['humidity'],bike['demand'],s=2,c='r')\n",
    "\n",
    "plt.subplot(2,2,4)\n",
    "plt.title(\"weather vs demand \")\n",
    "plt.scatter(bike['windspeed'],bike['demand'],s=2,c='m')\n",
    "\n",
    "plt.tight_layout()"
   ]
  },
  {
   "cell_type": "markdown",
   "id": "1c2ef2d3",
   "metadata": {},
   "source": [
    "# visualization of categorical variable"
   ]
  },
  {
   "cell_type": "code",
   "execution_count": 63,
   "id": "f88a5216",
   "metadata": {},
   "outputs": [
    {
     "data": {
      "text/html": [
       "<div>\n",
       "<style scoped>\n",
       "    .dataframe tbody tr th:only-of-type {\n",
       "        vertical-align: middle;\n",
       "    }\n",
       "\n",
       "    .dataframe tbody tr th {\n",
       "        vertical-align: top;\n",
       "    }\n",
       "\n",
       "    .dataframe thead th {\n",
       "        text-align: right;\n",
       "    }\n",
       "</style>\n",
       "<table border=\"1\" class=\"dataframe\">\n",
       "  <thead>\n",
       "    <tr style=\"text-align: right;\">\n",
       "      <th></th>\n",
       "      <th>season</th>\n",
       "      <th>year</th>\n",
       "      <th>month</th>\n",
       "      <th>hour</th>\n",
       "      <th>holiday</th>\n",
       "      <th>weekday</th>\n",
       "      <th>workingday</th>\n",
       "      <th>weather</th>\n",
       "      <th>temp</th>\n",
       "      <th>atemp</th>\n",
       "      <th>humidity</th>\n",
       "      <th>windspeed</th>\n",
       "      <th>casual</th>\n",
       "      <th>demand</th>\n",
       "    </tr>\n",
       "  </thead>\n",
       "  <tbody>\n",
       "    <tr>\n",
       "      <th>0</th>\n",
       "      <td>1</td>\n",
       "      <td>0</td>\n",
       "      <td>1</td>\n",
       "      <td>0</td>\n",
       "      <td>0</td>\n",
       "      <td>6</td>\n",
       "      <td>0</td>\n",
       "      <td>1</td>\n",
       "      <td>0.24</td>\n",
       "      <td>0.2879</td>\n",
       "      <td>0.81</td>\n",
       "      <td>0.0</td>\n",
       "      <td>3</td>\n",
       "      <td>16</td>\n",
       "    </tr>\n",
       "    <tr>\n",
       "      <th>1</th>\n",
       "      <td>1</td>\n",
       "      <td>0</td>\n",
       "      <td>1</td>\n",
       "      <td>1</td>\n",
       "      <td>0</td>\n",
       "      <td>6</td>\n",
       "      <td>0</td>\n",
       "      <td>1</td>\n",
       "      <td>0.22</td>\n",
       "      <td>0.2727</td>\n",
       "      <td>0.80</td>\n",
       "      <td>0.0</td>\n",
       "      <td>8</td>\n",
       "      <td>40</td>\n",
       "    </tr>\n",
       "    <tr>\n",
       "      <th>2</th>\n",
       "      <td>1</td>\n",
       "      <td>0</td>\n",
       "      <td>1</td>\n",
       "      <td>2</td>\n",
       "      <td>0</td>\n",
       "      <td>6</td>\n",
       "      <td>0</td>\n",
       "      <td>1</td>\n",
       "      <td>0.22</td>\n",
       "      <td>0.2727</td>\n",
       "      <td>0.80</td>\n",
       "      <td>0.0</td>\n",
       "      <td>5</td>\n",
       "      <td>32</td>\n",
       "    </tr>\n",
       "    <tr>\n",
       "      <th>3</th>\n",
       "      <td>1</td>\n",
       "      <td>0</td>\n",
       "      <td>1</td>\n",
       "      <td>3</td>\n",
       "      <td>0</td>\n",
       "      <td>6</td>\n",
       "      <td>0</td>\n",
       "      <td>1</td>\n",
       "      <td>0.24</td>\n",
       "      <td>0.2879</td>\n",
       "      <td>0.75</td>\n",
       "      <td>0.0</td>\n",
       "      <td>3</td>\n",
       "      <td>13</td>\n",
       "    </tr>\n",
       "    <tr>\n",
       "      <th>4</th>\n",
       "      <td>1</td>\n",
       "      <td>0</td>\n",
       "      <td>1</td>\n",
       "      <td>4</td>\n",
       "      <td>0</td>\n",
       "      <td>6</td>\n",
       "      <td>0</td>\n",
       "      <td>1</td>\n",
       "      <td>0.24</td>\n",
       "      <td>0.2879</td>\n",
       "      <td>0.75</td>\n",
       "      <td>0.0</td>\n",
       "      <td>0</td>\n",
       "      <td>1</td>\n",
       "    </tr>\n",
       "  </tbody>\n",
       "</table>\n",
       "</div>"
      ],
      "text/plain": [
       "   season  year  month  hour  holiday  weekday  workingday  weather  temp  \\\n",
       "0       1     0      1     0        0        6           0        1  0.24   \n",
       "1       1     0      1     1        0        6           0        1  0.22   \n",
       "2       1     0      1     2        0        6           0        1  0.22   \n",
       "3       1     0      1     3        0        6           0        1  0.24   \n",
       "4       1     0      1     4        0        6           0        1  0.24   \n",
       "\n",
       "    atemp  humidity  windspeed  casual  demand  \n",
       "0  0.2879      0.81        0.0       3      16  \n",
       "1  0.2727      0.80        0.0       8      40  \n",
       "2  0.2727      0.80        0.0       5      32  \n",
       "3  0.2879      0.75        0.0       3      13  \n",
       "4  0.2879      0.75        0.0       0       1  "
      ]
     },
     "execution_count": 63,
     "metadata": {},
     "output_type": "execute_result"
    }
   ],
   "source": [
    "bike.head()"
   ]
  },
  {
   "cell_type": "code",
   "execution_count": 80,
   "id": "a9a292da",
   "metadata": {},
   "outputs": [
    {
     "data": {
      "image/png": "[encoded data removed]",
      "text/plain": [
       "<Figure size 432x288 with 8 Axes>"
      ]
     },
     "metadata": {
      "needs_background": "light"
     },
     "output_type": "display_data"
    }
   ],
   "source": [
    "colors = ['g', 'r', 'm', 'b']\n",
    "\n",
    "plt.subplot(3,3,1)\n",
    "plt.title('Avg Dem per Season')\n",
    "cat_list = bike['season'].unique()\n",
    "cat_average = bike.groupby('season').mean()['demand']\n",
    "plt.bar(cat_list, cat_average, color=colors)\n",
    "\n",
    "plt.subplot(3,3,2)\n",
    "plt.title('Avg Dem per month')\n",
    "cat_list = bike['month'].unique()\n",
    "cat_average = bike.groupby('month').mean()['demand']\n",
    "plt.bar(cat_list, cat_average, color=colors)\n",
    "\n",
    "plt.subplot(3,3,3)\n",
    "plt.title('Avg Dem per Holiday')\n",
    "cat_list = bike['holiday'].unique()\n",
    "cat_average = bike.groupby('holiday').mean()['demand']\n",
    "plt.bar(cat_list, cat_average, color=colors)\n",
    "\n",
    "plt.subplot(3,3,4)\n",
    "plt.title('Avg Dem per Weekday')\n",
    "cat_list = bike['weekday'].unique()\n",
    "cat_average = bike.groupby('weekday').mean()['demand']\n",
    "plt.bar(cat_list, cat_average, color=colors)\n",
    "\n",
    "plt.subplot(3,3,5)\n",
    "plt.title('Avg Dem per Year')\n",
    "cat_list = bike['year'].unique()\n",
    "cat_average = bike.groupby('year').mean()['demand']\n",
    "plt.bar(cat_list, cat_average, color=colors)\n",
    "\n",
    "plt.subplot(3,3,6)\n",
    "plt.title('Avg Dem per hour')\n",
    "cat_list = bike['hour'].unique()\n",
    "cat_average = bike.groupby('hour').mean()['demand']\n",
    "plt.bar(cat_list, cat_average, color=colors)\n",
    "\n",
    "plt.subplot(3,3,7)\n",
    "plt.title('Avg Dem per Workingday')\n",
    "cat_list = bike['workingday'].unique()\n",
    "cat_average = bike.groupby('workingday').mean()['demand']\n",
    "plt.bar(cat_list, cat_average, color=colors)\n",
    "\n",
    "plt.subplot(3,3,8)\n",
    "plt.title('Avg Dem per Weather')\n",
    "cat_list = bike['weather'].unique()\n",
    "cat_average = bike.groupby('weather').mean()['demand']\n",
    "plt.bar(cat_list, cat_average, color=colors)\n",
    "\n",
    "plt.tight_layout()"
   ]
  },
  {
   "cell_type": "markdown",
   "id": "77bc4488",
   "metadata": {},
   "source": [
    "# check for outlier"
   ]
  },
  {
   "cell_type": "code",
   "execution_count": 72,
   "id": "dc4dbb71",
   "metadata": {},
   "outputs": [
    {
     "data": {
      "text/plain": [
       "count    17379.000000\n",
       "mean       189.463088\n",
       "std        181.387599\n",
       "min          1.000000\n",
       "25%         40.000000\n",
       "50%        142.000000\n",
       "75%        281.000000\n",
       "max        977.000000\n",
       "Name: demand, dtype: float64"
      ]
     },
     "execution_count": 72,
     "metadata": {},
     "output_type": "execute_result"
    }
   ],
   "source": [
    "bike['demand'].describe()"
   ]
  },
  {
   "cell_type": "code",
   "execution_count": 68,
   "id": "9828f12d",
   "metadata": {},
   "outputs": [
    {
     "data": {
      "text/plain": [
       "0.05      5.00\n",
       "0.10      9.00\n",
       "0.20     27.00\n",
       "0.90    451.20\n",
       "0.99    782.22\n",
       "Name: demand, dtype: float64"
      ]
     },
     "execution_count": 68,
     "metadata": {},
     "output_type": "execute_result"
    }
   ],
   "source": [
    "bike['demand'].quantile([.05,.1,.2,.9,.99])"
   ]
  },
  {
   "cell_type": "code",
   "execution_count": 73,
   "id": "2c628095",
   "metadata": {},
   "outputs": [
    {
     "data": {
      "text/plain": [
       "{'whiskers': [<matplotlib.lines.Line2D at 0x1801ea533d0>,\n",
       "  <matplotlib.lines.Line2D at 0x1801e7acb20>],\n",
       " 'caps': [<matplotlib.lines.Line2D at 0x1801e5d7f40>,\n",
       "  <matplotlib.lines.Line2D at 0x1801e5d7eb0>],\n",
       " 'boxes': [<matplotlib.lines.Line2D at 0x1801e5d84c0>],\n",
       " 'medians': [<matplotlib.lines.Line2D at 0x1801ea21be0>],\n",
       " 'fliers': [<matplotlib.lines.Line2D at 0x1801ea21d60>],\n",
       " 'means': []}"
      ]
     },
     "execution_count": 73,
     "metadata": {},
     "output_type": "execute_result"
    },
    {
     "data": {
      "image/png": "[encoded data removed]",
      "text/plain": [
       "<Figure size 432x288 with 1 Axes>"
      ]
     },
     "metadata": {
      "needs_background": "light"
     },
     "output_type": "display_data"
    }
   ],
   "source": [
    "plt.boxplot(bike['demand'])"
   ]
  },
  {
   "cell_type": "markdown",
   "id": "62eecb48",
   "metadata": {},
   "source": [
    "# Check Multiple Linear Regression Assumptions"
   ]
  },
  {
   "cell_type": "markdown",
   "id": "38ac3760",
   "metadata": {},
   "source": [
    "1 Multicollinearity\n",
    "2 linearity \n",
    "3 normality \n",
    "4 auto correlation\n"
   ]
  },
  {
   "cell_type": "code",
   "execution_count": 82,
   "id": "59311a2f",
   "metadata": {},
   "outputs": [
    {
     "data": {
      "text/html": [
       "<div>\n",
       "<style scoped>\n",
       "    .dataframe tbody tr th:only-of-type {\n",
       "        vertical-align: middle;\n",
       "    }\n",
       "\n",
       "    .dataframe tbody tr th {\n",
       "        vertical-align: top;\n",
       "    }\n",
       "\n",
       "    .dataframe thead th {\n",
       "        text-align: right;\n",
       "    }\n",
       "</style>\n",
       "<table border=\"1\" class=\"dataframe\">\n",
       "  <thead>\n",
       "    <tr style=\"text-align: right;\">\n",
       "      <th></th>\n",
       "      <th>temp</th>\n",
       "      <th>atemp</th>\n",
       "      <th>humidity</th>\n",
       "      <th>windspeed</th>\n",
       "      <th>demand</th>\n",
       "    </tr>\n",
       "  </thead>\n",
       "  <tbody>\n",
       "    <tr>\n",
       "      <th>temp</th>\n",
       "      <td>1.000000</td>\n",
       "      <td>0.987672</td>\n",
       "      <td>-0.069881</td>\n",
       "      <td>-0.023125</td>\n",
       "      <td>0.404772</td>\n",
       "    </tr>\n",
       "    <tr>\n",
       "      <th>atemp</th>\n",
       "      <td>0.987672</td>\n",
       "      <td>1.000000</td>\n",
       "      <td>-0.051918</td>\n",
       "      <td>-0.062336</td>\n",
       "      <td>0.400929</td>\n",
       "    </tr>\n",
       "    <tr>\n",
       "      <th>humidity</th>\n",
       "      <td>-0.069881</td>\n",
       "      <td>-0.051918</td>\n",
       "      <td>1.000000</td>\n",
       "      <td>-0.290105</td>\n",
       "      <td>-0.322911</td>\n",
       "    </tr>\n",
       "    <tr>\n",
       "      <th>windspeed</th>\n",
       "      <td>-0.023125</td>\n",
       "      <td>-0.062336</td>\n",
       "      <td>-0.290105</td>\n",
       "      <td>1.000000</td>\n",
       "      <td>0.093234</td>\n",
       "    </tr>\n",
       "    <tr>\n",
       "      <th>demand</th>\n",
       "      <td>0.404772</td>\n",
       "      <td>0.400929</td>\n",
       "      <td>-0.322911</td>\n",
       "      <td>0.093234</td>\n",
       "      <td>1.000000</td>\n",
       "    </tr>\n",
       "  </tbody>\n",
       "</table>\n",
       "</div>"
      ],
      "text/plain": [
       "               temp     atemp  humidity  windspeed    demand\n",
       "temp       1.000000  0.987672 -0.069881  -0.023125  0.404772\n",
       "atemp      0.987672  1.000000 -0.051918  -0.062336  0.400929\n",
       "humidity  -0.069881 -0.051918  1.000000  -0.290105 -0.322911\n",
       "windspeed -0.023125 -0.062336 -0.290105   1.000000  0.093234\n",
       "demand     0.404772  0.400929 -0.322911   0.093234  1.000000"
      ]
     },
     "execution_count": 82,
     "metadata": {},
     "output_type": "execute_result"
    }
   ],
   "source": [
    "#linearity using the correlation coefficient matrix corr continous variable\n",
    "bike[['temp', 'atemp', 'humidity', 'windspeed', 'demand']].corr()"
   ]
  },
  {
   "cell_type": "code",
   "execution_count": 83,
   "id": "133d8269",
   "metadata": {},
   "outputs": [],
   "source": [
    "# Drop irrelevant features\n",
    "bike = bike.drop(['weekday', 'year', 'workingday', 'atemp', 'windspeed'], axis=1)"
   ]
  },
  {
   "cell_type": "code",
   "execution_count": 84,
   "id": "97c0ce15",
   "metadata": {},
   "outputs": [
    {
     "data": {
      "text/plain": [
       "Index(['season', 'month', 'hour', 'holiday', 'weather', 'temp', 'humidity',\n",
       "       'casual', 'demand'],\n",
       "      dtype='object')"
      ]
     },
     "execution_count": 84,
     "metadata": {},
     "output_type": "execute_result"
    }
   ],
   "source": [
    "bike.columns"
   ]
  },
  {
   "cell_type": "code",
   "execution_count": 86,
   "id": "635d1c44",
   "metadata": {},
   "outputs": [
    {
     "data": {
      "text/plain": [
       "(array([-12, -11, -10,  -9,  -8,  -7,  -6,  -5,  -4,  -3,  -2,  -1,   0,\n",
       "          1,   2,   3,   4,   5,   6,   7,   8,   9,  10,  11,  12]),\n",
       " array([0.45474708, 0.4704955 , 0.49622798, 0.49404052, 0.4679593 ,\n",
       "        0.47732034, 0.52675766, 0.59145737, 0.6520156 , 0.7151954 ,\n",
       "        0.80591017, 0.92530966, 1.        , 0.92530966, 0.80591017,\n",
       "        0.7151954 , 0.6520156 , 0.59145737, 0.52675766, 0.47732034,\n",
       "        0.4679593 , 0.49404052, 0.49622798, 0.4704955 , 0.45474708],\n",
       "       dtype=float32),\n",
       " <matplotlib.collections.LineCollection at 0x1801c5e1d00>,\n",
       " <matplotlib.lines.Line2D at 0x1801c5e1130>)"
      ]
     },
     "execution_count": 86,
     "metadata": {},
     "output_type": "execute_result"
    },
    {
     "data": {
      "image/png": "[encoded data removed]",
      "text/plain": [
       "<Figure size 432x288 with 1 Axes>"
      ]
     },
     "metadata": {
      "needs_background": "light"
     },
     "output_type": "display_data"
    }
   ],
   "source": [
    "#auto correlation\n",
    "dfautocorr=pd.to_numeric(bike['demand'],downcast='float')\n",
    "plt.acorr(dfautocorr,maxlags=12)"
   ]
  },
  {
   "cell_type": "code",
   "execution_count": 87,
   "id": "c707ee90",
   "metadata": {},
   "outputs": [],
   "source": [
    "#normality "
   ]
  },
  {
   "cell_type": "code",
   "execution_count": 94,
   "id": "9ac7f4c9",
   "metadata": {},
   "outputs": [
    {
     "data": {
      "text/plain": [
       "<AxesSubplot:>"
      ]
     },
     "execution_count": 94,
     "metadata": {},
     "output_type": "execute_result"
    },
    {
     "data": {
      "image/png": "[encoded data removed]",
      "text/plain": [
       "<Figure size 432x288 with 1 Axes>"
      ]
     },
     "metadata": {
      "needs_background": "light"
     },
     "output_type": "display_data"
    },
    {
     "data": {
      "image/png": "[encoded data removed]",
      "text/plain": [
       "<Figure size 432x288 with 1 Axes>"
      ]
     },
     "metadata": {
      "needs_background": "light"
     },
     "output_type": "display_data"
    }
   ],
   "source": [
    "dfdem=bike['demand']\n",
    "dfdem2=np.log(dfdem)\n",
    "\n",
    "plt.figure()\n",
    "dfdem.hist(rwidth=.9, bins=20)\n",
    "\n",
    "plt.figure()\n",
    "\n",
    "dfdem2.hist(rwidth=.9, bins=20)"
   ]
  },
  {
   "cell_type": "code",
   "execution_count": 95,
   "id": "febcb79b",
   "metadata": {},
   "outputs": [],
   "source": [
    "#solve problem of auto correlaiton"
   ]
  },
  {
   "cell_type": "code",
   "execution_count": 96,
   "id": "93d27dab",
   "metadata": {},
   "outputs": [],
   "source": [
    "b_1=bike['demand'].shift(+1).to_frame()"
   ]
  },
  {
   "cell_type": "code",
   "execution_count": 98,
   "id": "42896652",
   "metadata": {},
   "outputs": [],
   "source": [
    "b_1.columns=['b_1']"
   ]
  },
  {
   "cell_type": "code",
   "execution_count": 100,
   "id": "0a625f23",
   "metadata": {},
   "outputs": [],
   "source": [
    "b_2=bike['demand'].shift(+1).to_frame()\n",
    "b_2.columns=['b_2']"
   ]
  },
  {
   "cell_type": "code",
   "execution_count": 101,
   "id": "c72f35c2",
   "metadata": {},
   "outputs": [],
   "source": [
    "b_3=bike['demand'].shift(+1).to_frame()\n",
    "b_3.columns=['b_3']"
   ]
  },
  {
   "cell_type": "code",
   "execution_count": 102,
   "id": "85ce0fc0",
   "metadata": {},
   "outputs": [],
   "source": [
    "bike_lag=pd.concat([bike,b_1,b_2,b_3],axis=1)"
   ]
  },
  {
   "cell_type": "code",
   "execution_count": 104,
   "id": "8a03ae6a",
   "metadata": {},
   "outputs": [],
   "source": [
    "\n",
    "bike_lag=bike_lag.dropna()"
   ]
  },
  {
   "cell_type": "code",
   "execution_count": 106,
   "id": "f010e790",
   "metadata": {},
   "outputs": [],
   "source": [
    "#create dummy variable"
   ]
  },
  {
   "cell_type": "code",
   "execution_count": 114,
   "id": "95d1c05d",
   "metadata": {},
   "outputs": [
    {
     "name": "stderr",
     "output_type": "stream",
     "text": [
      "C:\\Users\\BAIJNA~1\\AppData\\Local\\Temp/ipykernel_20276/644115828.py:1: SettingWithCopyWarning: \n",
      "A value is trying to be set on a copy of a slice from a DataFrame.\n",
      "Try using .loc[row_indexer,col_indexer] = value instead\n",
      "\n",
      "See the caveats in the documentation: https://pandas.pydata.org/pandas-docs/stable/user_guide/indexing.html#returning-a-view-versus-a-copy\n",
      "  bike_lag['season']=bike_lag['season'].astype('category')\n",
      "C:\\Users\\BAIJNA~1\\AppData\\Local\\Temp/ipykernel_20276/644115828.py:2: SettingWithCopyWarning: \n",
      "A value is trying to be set on a copy of a slice from a DataFrame.\n",
      "Try using .loc[row_indexer,col_indexer] = value instead\n",
      "\n",
      "See the caveats in the documentation: https://pandas.pydata.org/pandas-docs/stable/user_guide/indexing.html#returning-a-view-versus-a-copy\n",
      "  bike_lag['holiday']=bike_lag['holiday'].astype('category')\n",
      "C:\\Users\\BAIJNA~1\\AppData\\Local\\Temp/ipykernel_20276/644115828.py:3: SettingWithCopyWarning: \n",
      "A value is trying to be set on a copy of a slice from a DataFrame.\n",
      "Try using .loc[row_indexer,col_indexer] = value instead\n",
      "\n",
      "See the caveats in the documentation: https://pandas.pydata.org/pandas-docs/stable/user_guide/indexing.html#returning-a-view-versus-a-copy\n",
      "  bike_lag['weather']=bike_lag['weather'].astype('category')\n",
      "C:\\Users\\BAIJNA~1\\AppData\\Local\\Temp/ipykernel_20276/644115828.py:4: SettingWithCopyWarning: \n",
      "A value is trying to be set on a copy of a slice from a DataFrame.\n",
      "Try using .loc[row_indexer,col_indexer] = value instead\n",
      "\n",
      "See the caveats in the documentation: https://pandas.pydata.org/pandas-docs/stable/user_guide/indexing.html#returning-a-view-versus-a-copy\n",
      "  bike_lag['month']=bike_lag['month'].astype('category')\n",
      "C:\\Users\\BAIJNA~1\\AppData\\Local\\Temp/ipykernel_20276/644115828.py:5: SettingWithCopyWarning: \n",
      "A value is trying to be set on a copy of a slice from a DataFrame.\n",
      "Try using .loc[row_indexer,col_indexer] = value instead\n",
      "\n",
      "See the caveats in the documentation: https://pandas.pydata.org/pandas-docs/stable/user_guide/indexing.html#returning-a-view-versus-a-copy\n",
      "  bike_lag['hour']=bike_lag['hour'].astype('category')\n"
     ]
    }
   ],
   "source": [
    "bike_lag['season']=bike_lag['season'].astype('category')\n",
    "bike_lag['holiday']=bike_lag['holiday'].astype('category')\n",
    "bike_lag['weather']=bike_lag['weather'].astype('category')\n",
    "bike_lag['month']=bike_lag['month'].astype('category')\n",
    "bike_lag['hour']=bike_lag['hour'].astype('category')"
   ]
  },
  {
   "cell_type": "code",
   "execution_count": 116,
   "id": "ed383219",
   "metadata": {},
   "outputs": [],
   "source": [
    "y=bike_lag['demand']\n",
    "x=bike_lag.drop(['demand'],axis=1)\n"
   ]
  },
  {
   "cell_type": "code",
   "execution_count": 118,
   "id": "3a9b0d0a",
   "metadata": {},
   "outputs": [],
   "source": [
    "x_train,x_test,y_train,y_test=train_test_split(x,y,test_size=.7,random_state=123)"
   ]
  },
  {
   "cell_type": "code",
   "execution_count": 121,
   "id": "e4d7004a",
   "metadata": {},
   "outputs": [],
   "source": [
    "rig=LinearRegression()"
   ]
  },
  {
   "cell_type": "code",
   "execution_count": 122,
   "id": "295b3848",
   "metadata": {},
   "outputs": [
    {
     "data": {
      "text/plain": [
       "LinearRegression()"
      ]
     },
     "execution_count": 122,
     "metadata": {},
     "output_type": "execute_result"
    }
   ],
   "source": [
    "rig.fit(x_train,y_train)"
   ]
  },
  {
   "cell_type": "code",
   "execution_count": 124,
   "id": "3798cf19",
   "metadata": {},
   "outputs": [],
   "source": [
    "y_pre=rig.predict(x_test)"
   ]
  },
  {
   "cell_type": "code",
   "execution_count": 125,
   "id": "ca99f69a",
   "metadata": {},
   "outputs": [
    {
     "data": {
      "text/plain": [
       "0.7496062813459983"
      ]
     },
     "execution_count": 125,
     "metadata": {},
     "output_type": "execute_result"
    }
   ],
   "source": [
    "rig.score(x_test,y_test)"
   ]
  },
  {
   "cell_type": "code",
   "execution_count": null,
   "id": "83d56cf3",
   "metadata": {},
   "outputs": [],
   "source": []
  }
 ],
 "metadata": {
  "kernelspec": {
   "display_name": "Python 3 (ipykernel)",
   "language": "python",
   "name": "python3"
  },
  "language_info": {
   "codemirror_mode": {
    "name": "ipython",
    "version": 3
   },
   "file_extension": ".py",
   "mimetype": "text/x-python",
   "name": "python",
   "nbconvert_exporter": "python",
   "pygments_lexer": "ipython3",
   "version": "3.9.7"
  }
 },
 "nbformat": 4,
 "nbformat_minor": 5
}
